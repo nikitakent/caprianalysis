{
 "cells": [
  {
   "cell_type": "markdown",
   "metadata": {},
   "source": [
    "Motivation:\n",
    "\n",
    "- To achieve a healthy level of inflation, or token issuance, to encourage validator participation.\n",
    "- \n",
    "\n",
    "Assumptions:\n",
    "\n",
    "- To calculate net issuance, we need to subtract fee burning\n",
    "- A validator's expected long-term reward is $nb$ per epoch ( $number of increments * base reward per increment$ )\n",
    "- Assume 1 Increment = 1 Eth\n",
    "- Reward = EFFECTIVE_BALANCE_INCREMENT * BASE_REWARD_FACTOR, or $n * b$\n",
    "- Assume 6 second block times, 21 validators.\n"
   ]
  },
  {
   "cell_type": "code",
   "execution_count": 44,
   "metadata": {},
   "outputs": [
    {
     "name": "stdout",
     "output_type": "stream",
     "text": [
      "Total Stake:  10500000000\n",
      "Max issuance per epoch:  399.2699064567648\n",
      "Max issuance per year, all epochs:  2100000000.0\n",
      "Percentage of total stake as static rewards per year:  20.0\n"
     ]
    }
   ],
   "source": [
    "epochsPerMinute = 10 # 6 second block times\n",
    "epochsPerYear = epochsPerMinute * 60 * 24 * 365.25\n",
    "validatorN = 21\n",
    "stakePerValidator = 500000000 # 500 million tokens\n",
    "totalStake = validatorN * stakePerValidator\n",
    "twentypercentYield = totalStake * 0.2\n",
    "maxIssuancePerBlock = twentypercentYield / epochsPerYear\n",
    "print(\"Total Stake: \", totalStake) # 10.5 billion tokens\n",
    "print(\"Max issuance per epoch: \", maxIssuancePerBlock) \n",
    "print(\"Max issuance per year, all epochs: \", maxIssuancePerBlock * epochsPerYear)\n",
    "print(\"Percentage of total stake as static rewards per year: \", (maxIssuancePerBlock * epochsPerYear) / totalStake * 100)"
   ]
  },
  {
   "cell_type": "code",
   "execution_count": 45,
   "metadata": {},
   "outputs": [
    {
     "name": "stdout",
     "output_type": "stream",
     "text": [
      "13125000.0\n",
      "2.4954369153547797\n",
      "6562500.0\n",
      "1.2477184576773899\n"
     ]
    }
   ],
   "source": [
    "## Trying to calculate the base reward factor for a 4% inflation target\n",
    "\n",
    "print(totalStake * 0.04 /32)\n",
    "print(13125000.0 / epochsPerYear)\n",
    "\n",
    "print(totalStake * 0.02 /32)\n",
    "print(6562500.0 / epochsPerYear)\n",
    "\n"
   ]
  },
  {
   "cell_type": "code",
   "execution_count": null,
   "metadata": {},
   "outputs": [],
   "source": []
  },
  {
   "cell_type": "code",
   "execution_count": null,
   "metadata": {},
   "outputs": [],
   "source": []
  }
 ],
 "metadata": {
  "kernelspec": {
   "display_name": "Python 3",
   "language": "python",
   "name": "python3"
  },
  "language_info": {
   "codemirror_mode": {
    "name": "ipython",
    "version": 3
   },
   "file_extension": ".py",
   "mimetype": "text/x-python",
   "name": "python",
   "nbconvert_exporter": "python",
   "pygments_lexer": "ipython3",
   "version": "3.10.10"
  }
 },
 "nbformat": 4,
 "nbformat_minor": 2
}
